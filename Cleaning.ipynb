{
  "nbformat": 4,
  "nbformat_minor": 0,
  "metadata": {
    "colab": {
      "provenance": []
    },
    "kernelspec": {
      "name": "python3",
      "display_name": "Python 3"
    },
    "language_info": {
      "name": "python"
    }
  },
  "cells": [
    {
      "cell_type": "code",
      "source": [
        "from google.colab import drive\n",
        "drive.mount('/content/drive', force_remount=True)"
      ],
      "metadata": {
        "colab": {
          "base_uri": "https://localhost:8080/"
        },
        "id": "ROHFTSFiaY0b",
        "outputId": "8667e2c2-a13d-4dff-cd3d-1a1030a4a611"
      },
      "execution_count": null,
      "outputs": [
        {
          "output_type": "stream",
          "name": "stdout",
          "text": [
            "Mounted at /content/drive\n"
          ]
        }
      ]
    },
    {
      "cell_type": "code",
      "source": [
        "import os"
      ],
      "metadata": {
        "id": "wk3UWgNmaYjt"
      },
      "execution_count": null,
      "outputs": []
    },
    {
      "cell_type": "code",
      "source": [
        "# Change to your own directory\n",
        "try:\n",
        "    os.chdir(\"/content/drive/MyDrive/Suicide\")\n",
        "    print(\"Directory changed\")\n",
        "except OSError:\n",
        "    print(\"Error: Can't change the Current Working Directory\")"
      ],
      "metadata": {
        "colab": {
          "base_uri": "https://localhost:8080/"
        },
        "id": "a_TgPZKhaYTx",
        "outputId": "21f0ad44-fcfb-478d-95d8-789c964c9639"
      },
      "execution_count": null,
      "outputs": [
        {
          "output_type": "stream",
          "name": "stdout",
          "text": [
            "Directory changed\n"
          ]
        }
      ]
    },
    {
      "cell_type": "code",
      "execution_count": null,
      "metadata": {
        "id": "p8qDRCQOaWL_"
      },
      "outputs": [],
      "source": [
        "# loading in all the essentials\n",
        "import pandas as pd\n",
        "import numpy as np \n",
        "import nltk\n",
        "from nltk.corpus import stopwords\n",
        "from nltk.tokenize import word_tokenize\n",
        "from nltk.stem import WordNetLemmatizer \n",
        "from nltk import ngrams\n",
        "from collections import Counter\n",
        "import seaborn as sns\n",
        "import matplotlib.pyplot as plt"
      ]
    },
    {
      "cell_type": "code",
      "source": [
        "nltk.download('punkt')"
      ],
      "metadata": {
        "colab": {
          "base_uri": "https://localhost:8080/"
        },
        "id": "r-xllKGTb7dr",
        "outputId": "f5102d2e-8a92-4ce5-add6-47af18231339"
      },
      "execution_count": null,
      "outputs": [
        {
          "output_type": "stream",
          "name": "stderr",
          "text": [
            "[nltk_data] Downloading package punkt to /root/nltk_data...\n",
            "[nltk_data]   Unzipping tokenizers/punkt.zip.\n"
          ]
        },
        {
          "output_type": "execute_result",
          "data": {
            "text/plain": [
              "True"
            ]
          },
          "metadata": {},
          "execution_count": 5
        }
      ]
    },
    {
      "cell_type": "code",
      "source": [
        "# Load dataset\n",
        "cleaned_df = pd.read_csv('New Data/suicide_full_cleaned.csv') \n",
        "cleaned_df"
      ],
      "metadata": {
        "colab": {
          "base_uri": "https://localhost:8080/",
          "height": 424
        },
        "id": "IKB7gAgraka-",
        "outputId": "382d2d83-7005-4024-ca5a-be211f8d79eb"
      },
      "execution_count": null,
      "outputs": [
        {
          "output_type": "execute_result",
          "data": {
            "text/plain": [
              "                                                                                 text  \\\n",
              "0      I recently went through a breakup and she said...                                \n",
              "1      I do not know how to navigate these feelings, ...                                \n",
              "2      So I have been with my bf for 5 months , and h...                                \n",
              "3      I am so exhausted of this. Just when I think I...                                \n",
              "4      i could feel the strongest connection and stil...                                \n",
              "...                                                  ...                                \n",
              "30784  i get the more confident i feel about being we...                                \n",
              "30785  i sat there in our living room feeling the sun...                                \n",
              "30786  i still feel incredibly listless being in albu...                                \n",
              "30787  i feel that is how we can be safe to be oursel...                                \n",
              "30788  i ask you how can they feel virtuous if any me...                                \n",
              "\n",
              "            class                                       cleaned_text  \n",
              "0      depression  recently go breakup say want friend say try ta...  \n",
              "1      depression  not know navigate feeling not new feeling stre...  \n",
              "2      depression  month tell depressed week particular happen fe...  \n",
              "3         suicide  exhausted think finally rest think maybe thing...  \n",
              "4          normal                 feel strong connection divine self  \n",
              "...           ...                                                ...  \n",
              "30784      normal                   confident feel prepared graduate  \n",
              "30785      normal  sit living room feel sun come window cuddle go...  \n",
              "30786      normal  feel incredibly listless albuquerque weather i...  \n",
              "30787      normal                                    feel safe trust  \n",
              "30788      normal  ask feel virtuous member prefer victim group l...  \n",
              "\n",
              "[30789 rows x 3 columns]"
            ],
            "text/html": [
              "\n",
              "  <div id=\"df-66e19e0d-25e4-4777-bd09-13bfc804975e\">\n",
              "    <div class=\"colab-df-container\">\n",
              "      <div>\n",
              "<style scoped>\n",
              "    .dataframe tbody tr th:only-of-type {\n",
              "        vertical-align: middle;\n",
              "    }\n",
              "\n",
              "    .dataframe tbody tr th {\n",
              "        vertical-align: top;\n",
              "    }\n",
              "\n",
              "    .dataframe thead th {\n",
              "        text-align: right;\n",
              "    }\n",
              "</style>\n",
              "<table border=\"1\" class=\"dataframe\">\n",
              "  <thead>\n",
              "    <tr style=\"text-align: right;\">\n",
              "      <th></th>\n",
              "      <th>text</th>\n",
              "      <th>class</th>\n",
              "      <th>cleaned_text</th>\n",
              "    </tr>\n",
              "  </thead>\n",
              "  <tbody>\n",
              "    <tr>\n",
              "      <th>0</th>\n",
              "      <td>I recently went through a breakup and she said...</td>\n",
              "      <td>depression</td>\n",
              "      <td>recently go breakup say want friend say try ta...</td>\n",
              "    </tr>\n",
              "    <tr>\n",
              "      <th>1</th>\n",
              "      <td>I do not know how to navigate these feelings, ...</td>\n",
              "      <td>depression</td>\n",
              "      <td>not know navigate feeling not new feeling stre...</td>\n",
              "    </tr>\n",
              "    <tr>\n",
              "      <th>2</th>\n",
              "      <td>So I have been with my bf for 5 months , and h...</td>\n",
              "      <td>depression</td>\n",
              "      <td>month tell depressed week particular happen fe...</td>\n",
              "    </tr>\n",
              "    <tr>\n",
              "      <th>3</th>\n",
              "      <td>I am so exhausted of this. Just when I think I...</td>\n",
              "      <td>suicide</td>\n",
              "      <td>exhausted think finally rest think maybe thing...</td>\n",
              "    </tr>\n",
              "    <tr>\n",
              "      <th>4</th>\n",
              "      <td>i could feel the strongest connection and stil...</td>\n",
              "      <td>normal</td>\n",
              "      <td>feel strong connection divine self</td>\n",
              "    </tr>\n",
              "    <tr>\n",
              "      <th>...</th>\n",
              "      <td>...</td>\n",
              "      <td>...</td>\n",
              "      <td>...</td>\n",
              "    </tr>\n",
              "    <tr>\n",
              "      <th>30784</th>\n",
              "      <td>i get the more confident i feel about being we...</td>\n",
              "      <td>normal</td>\n",
              "      <td>confident feel prepared graduate</td>\n",
              "    </tr>\n",
              "    <tr>\n",
              "      <th>30785</th>\n",
              "      <td>i sat there in our living room feeling the sun...</td>\n",
              "      <td>normal</td>\n",
              "      <td>sit living room feel sun come window cuddle go...</td>\n",
              "    </tr>\n",
              "    <tr>\n",
              "      <th>30786</th>\n",
              "      <td>i still feel incredibly listless being in albu...</td>\n",
              "      <td>normal</td>\n",
              "      <td>feel incredibly listless albuquerque weather i...</td>\n",
              "    </tr>\n",
              "    <tr>\n",
              "      <th>30787</th>\n",
              "      <td>i feel that is how we can be safe to be oursel...</td>\n",
              "      <td>normal</td>\n",
              "      <td>feel safe trust</td>\n",
              "    </tr>\n",
              "    <tr>\n",
              "      <th>30788</th>\n",
              "      <td>i ask you how can they feel virtuous if any me...</td>\n",
              "      <td>normal</td>\n",
              "      <td>ask feel virtuous member prefer victim group l...</td>\n",
              "    </tr>\n",
              "  </tbody>\n",
              "</table>\n",
              "<p>30789 rows × 3 columns</p>\n",
              "</div>\n",
              "      <button class=\"colab-df-convert\" onclick=\"convertToInteractive('df-66e19e0d-25e4-4777-bd09-13bfc804975e')\"\n",
              "              title=\"Convert this dataframe to an interactive table.\"\n",
              "              style=\"display:none;\">\n",
              "        \n",
              "  <svg xmlns=\"http://www.w3.org/2000/svg\" height=\"24px\"viewBox=\"0 0 24 24\"\n",
              "       width=\"24px\">\n",
              "    <path d=\"M0 0h24v24H0V0z\" fill=\"none\"/>\n",
              "    <path d=\"M18.56 5.44l.94 2.06.94-2.06 2.06-.94-2.06-.94-.94-2.06-.94 2.06-2.06.94zm-11 1L8.5 8.5l.94-2.06 2.06-.94-2.06-.94L8.5 2.5l-.94 2.06-2.06.94zm10 10l.94 2.06.94-2.06 2.06-.94-2.06-.94-.94-2.06-.94 2.06-2.06.94z\"/><path d=\"M17.41 7.96l-1.37-1.37c-.4-.4-.92-.59-1.43-.59-.52 0-1.04.2-1.43.59L10.3 9.45l-7.72 7.72c-.78.78-.78 2.05 0 2.83L4 21.41c.39.39.9.59 1.41.59.51 0 1.02-.2 1.41-.59l7.78-7.78 2.81-2.81c.8-.78.8-2.07 0-2.86zM5.41 20L4 18.59l7.72-7.72 1.47 1.35L5.41 20z\"/>\n",
              "  </svg>\n",
              "      </button>\n",
              "      \n",
              "  <style>\n",
              "    .colab-df-container {\n",
              "      display:flex;\n",
              "      flex-wrap:wrap;\n",
              "      gap: 12px;\n",
              "    }\n",
              "\n",
              "    .colab-df-convert {\n",
              "      background-color: #E8F0FE;\n",
              "      border: none;\n",
              "      border-radius: 50%;\n",
              "      cursor: pointer;\n",
              "      display: none;\n",
              "      fill: #1967D2;\n",
              "      height: 32px;\n",
              "      padding: 0 0 0 0;\n",
              "      width: 32px;\n",
              "    }\n",
              "\n",
              "    .colab-df-convert:hover {\n",
              "      background-color: #E2EBFA;\n",
              "      box-shadow: 0px 1px 2px rgba(60, 64, 67, 0.3), 0px 1px 3px 1px rgba(60, 64, 67, 0.15);\n",
              "      fill: #174EA6;\n",
              "    }\n",
              "\n",
              "    [theme=dark] .colab-df-convert {\n",
              "      background-color: #3B4455;\n",
              "      fill: #D2E3FC;\n",
              "    }\n",
              "\n",
              "    [theme=dark] .colab-df-convert:hover {\n",
              "      background-color: #434B5C;\n",
              "      box-shadow: 0px 1px 3px 1px rgba(0, 0, 0, 0.15);\n",
              "      filter: drop-shadow(0px 1px 2px rgba(0, 0, 0, 0.3));\n",
              "      fill: #FFFFFF;\n",
              "    }\n",
              "  </style>\n",
              "\n",
              "      <script>\n",
              "        const buttonEl =\n",
              "          document.querySelector('#df-66e19e0d-25e4-4777-bd09-13bfc804975e button.colab-df-convert');\n",
              "        buttonEl.style.display =\n",
              "          google.colab.kernel.accessAllowed ? 'block' : 'none';\n",
              "\n",
              "        async function convertToInteractive(key) {\n",
              "          const element = document.querySelector('#df-66e19e0d-25e4-4777-bd09-13bfc804975e');\n",
              "          const dataTable =\n",
              "            await google.colab.kernel.invokeFunction('convertToInteractive',\n",
              "                                                     [key], {});\n",
              "          if (!dataTable) return;\n",
              "\n",
              "          const docLinkHtml = 'Like what you see? Visit the ' +\n",
              "            '<a target=\"_blank\" href=https://colab.research.google.com/notebooks/data_table.ipynb>data table notebook</a>'\n",
              "            + ' to learn more about interactive tables.';\n",
              "          element.innerHTML = '';\n",
              "          dataTable['output_type'] = 'display_data';\n",
              "          await google.colab.output.renderOutput(dataTable, element);\n",
              "          const docLink = document.createElement('div');\n",
              "          docLink.innerHTML = docLinkHtml;\n",
              "          element.appendChild(docLink);\n",
              "        }\n",
              "      </script>\n",
              "    </div>\n",
              "  </div>\n",
              "  "
            ]
          },
          "metadata": {},
          "execution_count": 6
        }
      ]
    },
    {
      "cell_type": "code",
      "source": [
        "cleaned_df.dtypes"
      ],
      "metadata": {
        "colab": {
          "base_uri": "https://localhost:8080/"
        },
        "id": "ZUYxx-dOazZn",
        "outputId": "31a6a586-9ad0-491c-8c09-2d0dae506482"
      },
      "execution_count": null,
      "outputs": [
        {
          "output_type": "execute_result",
          "data": {
            "text/plain": [
              "                                                                           text    object\n",
              "    class                                                                          object\n",
              "cleaned_text                                                                       object\n",
              "dtype: object"
            ]
          },
          "metadata": {},
          "execution_count": 7
        }
      ]
    },
    {
      "cell_type": "code",
      "source": [
        "cleaned_df.info()"
      ],
      "metadata": {
        "colab": {
          "base_uri": "https://localhost:8080/"
        },
        "id": "KTkQ1QDsa2a9",
        "outputId": "55bc46e3-531c-4110-c60f-13ce293f1307"
      },
      "execution_count": null,
      "outputs": [
        {
          "output_type": "stream",
          "name": "stdout",
          "text": [
            "<class 'pandas.core.frame.DataFrame'>\n",
            "RangeIndex: 30789 entries, 0 to 30788\n",
            "Data columns (total 3 columns):\n",
            " #   Column                                                                           Non-Null Count  Dtype \n",
            "---  ------                                                                           --------------  ----- \n",
            " 0                                                                              text  30789 non-null  object\n",
            " 1       class                                                                        30788 non-null  object\n",
            " 2   cleaned_text                                                                     30785 non-null  object\n",
            "dtypes: object(3)\n",
            "memory usage: 721.7+ KB\n"
          ]
        }
      ]
    },
    {
      "cell_type": "code",
      "source": [
        "cleaned_df.shape"
      ],
      "metadata": {
        "colab": {
          "base_uri": "https://localhost:8080/"
        },
        "id": "wSXGPEc5a-KG",
        "outputId": "ae6499f4-bb05-4385-f7a4-c664a492d95b"
      },
      "execution_count": null,
      "outputs": [
        {
          "output_type": "execute_result",
          "data": {
            "text/plain": [
              "(30789, 3)"
            ]
          },
          "metadata": {},
          "execution_count": 9
        }
      ]
    },
    {
      "cell_type": "code",
      "source": [
        "# let joins all the title rows and tokenize them into words\n",
        "comments =\"\".join(str(cleaned_df['                                                                           text']))\n",
        "words =word_tokenize(comments)"
      ],
      "metadata": {
        "id": "aX4f2GrObNq3"
      },
      "execution_count": null,
      "outputs": []
    },
    {
      "cell_type": "code",
      "source": [
        "comments"
      ],
      "metadata": {
        "colab": {
          "base_uri": "https://localhost:8080/",
          "height": 105
        },
        "id": "YX5_qX7FbiCF",
        "outputId": "30d5cf78-3169-4563-be5e-071042b74be2"
      },
      "execution_count": null,
      "outputs": [
        {
          "output_type": "execute_result",
          "data": {
            "text/plain": [
              "'0        I recently went through a breakup and she said...\\n1        I do not know how to navigate these feelings, ...\\n2        So I have been with my bf for 5 months , and h...\\n3        I am so exhausted of this. Just when I think I...\\n4        i could feel the strongest connection and stil...\\n                               ...                        \\n30784    i get the more confident i feel about being we...\\n30785    i sat there in our living room feeling the sun...\\n30786    i still feel incredibly listless being in albu...\\n30787    i feel that is how we can be safe to be oursel...\\n30788    i ask you how can they feel virtuous if any me...\\nName:                                                                            text, Length: 30789, dtype: object'"
            ],
            "application/vnd.google.colaboratory.intrinsic+json": {
              "type": "string"
            }
          },
          "metadata": {},
          "execution_count": 11
        }
      ]
    },
    {
      "cell_type": "code",
      "source": [
        "nltk.download('stopwords')\n",
        "nltk.download('wordnet')\n",
        "nltk.download('omw-1.4')"
      ],
      "metadata": {
        "colab": {
          "base_uri": "https://localhost:8080/"
        },
        "id": "CJzuG1HdckaT",
        "outputId": "c85dd48b-8dfd-45c0-962c-018d277e2757"
      },
      "execution_count": null,
      "outputs": [
        {
          "output_type": "stream",
          "name": "stderr",
          "text": [
            "[nltk_data] Downloading package stopwords to /root/nltk_data...\n",
            "[nltk_data]   Unzipping corpora/stopwords.zip.\n",
            "[nltk_data] Downloading package wordnet to /root/nltk_data...\n",
            "[nltk_data] Downloading package omw-1.4 to /root/nltk_data...\n"
          ]
        },
        {
          "output_type": "execute_result",
          "data": {
            "text/plain": [
              "True"
            ]
          },
          "metadata": {},
          "execution_count": 12
        }
      ]
    },
    {
      "cell_type": "code",
      "source": [
        "#lets creat a small function to clean the words of punctuations, stop words and lemmatize the words\n",
        "def clean_words(new_tokens):\n",
        "    new_tokens = [t.lower() for t in new_tokens]\n",
        "    new_tokens =[t for t in new_tokens if t not in stopwords.words('english')]\n",
        "    new_tokens = [t for t in new_tokens if t.isalpha()]\n",
        "    lemmatizer = WordNetLemmatizer()\n",
        "    new_tokens =[lemmatizer.lemmatize(t) for t in new_tokens]\n",
        "    return new_tokens"
      ],
      "metadata": {
        "id": "XZd6hJ1ZcHmF"
      },
      "execution_count": null,
      "outputs": []
    },
    {
      "cell_type": "code",
      "source": [
        "lowered = clean_words(words)"
      ],
      "metadata": {
        "id": "toDV2NVwcejV"
      },
      "execution_count": null,
      "outputs": []
    },
    {
      "cell_type": "code",
      "source": [
        "bow = Counter(lowered)\n",
        "bow"
      ],
      "metadata": {
        "colab": {
          "base_uri": "https://localhost:8080/"
        },
        "id": "lyLWHq3-cgv_",
        "outputId": "4a7d001b-d4d4-4862-d028-3f2149617c03"
      },
      "execution_count": null,
      "outputs": [
        {
          "output_type": "execute_result",
          "data": {
            "text/plain": [
              "Counter({'recently': 1,\n",
              "         'went': 1,\n",
              "         'breakup': 1,\n",
              "         'said': 1,\n",
              "         'know': 1,\n",
              "         'navigate': 1,\n",
              "         'feeling': 2,\n",
              "         'bf': 1,\n",
              "         'month': 1,\n",
              "         'h': 1,\n",
              "         'exhausted': 1,\n",
              "         'think': 1,\n",
              "         'could': 1,\n",
              "         'feel': 5,\n",
              "         'strongest': 1,\n",
              "         'connection': 1,\n",
              "         'stil': 1,\n",
              "         'get': 1,\n",
              "         'confident': 1,\n",
              "         'sat': 1,\n",
              "         'living': 1,\n",
              "         'room': 1,\n",
              "         'sun': 1,\n",
              "         'still': 1,\n",
              "         'incredibly': 1,\n",
              "         'listless': 1,\n",
              "         'albu': 1,\n",
              "         'safe': 1,\n",
              "         'oursel': 1,\n",
              "         'ask': 1,\n",
              "         'virtuous': 1,\n",
              "         'name': 1,\n",
              "         'text': 1,\n",
              "         'length': 1,\n",
              "         'dtype': 1,\n",
              "         'object': 1})"
            ]
          },
          "metadata": {},
          "execution_count": 15
        }
      ]
    },
    {
      "cell_type": "code",
      "source": [
        "data = pd.DataFrame(bow.items(),columns=['word','frequency']).sort_values(by='frequency',ascending=False)"
      ],
      "metadata": {
        "id": "3VD8KqiBc2dz"
      },
      "execution_count": null,
      "outputs": []
    },
    {
      "cell_type": "code",
      "source": [
        "data =data.head(20)"
      ],
      "metadata": {
        "id": "h9REPaACd6bs"
      },
      "execution_count": null,
      "outputs": []
    },
    {
      "cell_type": "code",
      "source": [
        "sns.barplot(x='frequency',y='word',data=data)"
      ],
      "metadata": {
        "colab": {
          "base_uri": "https://localhost:8080/",
          "height": 296
        },
        "id": "bOddGebed9No",
        "outputId": "a858ddbd-d582-4a3a-a7a5-d8994c4d3ae8"
      },
      "execution_count": null,
      "outputs": [
        {
          "output_type": "execute_result",
          "data": {
            "text/plain": [
              "<matplotlib.axes._subplots.AxesSubplot at 0x7fa3acc1e890>"
            ]
          },
          "metadata": {},
          "execution_count": 18
        },
        {
          "output_type": "display_data",
          "data": {
            "text/plain": [
              "<Figure size 432x288 with 1 Axes>"
            ],
            "image/png": "[encoded data removed]"
          },
          "metadata": {
            "needs_background": "light"
          }
        }
      ]
    },
    {
      "cell_type": "code",
      "source": [
        "bow2 =Counter(ngrams(lowered,2))\n",
        "bow2"
      ],
      "metadata": {
        "colab": {
          "base_uri": "https://localhost:8080/"
        },
        "id": "QueSfvtkeAIQ",
        "outputId": "723dcfcd-46a2-402b-ba5e-da099a5fa88c"
      },
      "execution_count": null,
      "outputs": [
        {
          "output_type": "execute_result",
          "data": {
            "text/plain": [
              "Counter({('recently', 'went'): 1,\n",
              "         ('went', 'breakup'): 1,\n",
              "         ('breakup', 'said'): 1,\n",
              "         ('said', 'know'): 1,\n",
              "         ('know', 'navigate'): 1,\n",
              "         ('navigate', 'feeling'): 1,\n",
              "         ('feeling', 'bf'): 1,\n",
              "         ('bf', 'month'): 1,\n",
              "         ('month', 'h'): 1,\n",
              "         ('h', 'exhausted'): 1,\n",
              "         ('exhausted', 'think'): 1,\n",
              "         ('think', 'could'): 1,\n",
              "         ('could', 'feel'): 1,\n",
              "         ('feel', 'strongest'): 1,\n",
              "         ('strongest', 'connection'): 1,\n",
              "         ('connection', 'stil'): 1,\n",
              "         ('stil', 'get'): 1,\n",
              "         ('get', 'confident'): 1,\n",
              "         ('confident', 'feel'): 1,\n",
              "         ('feel', 'sat'): 1,\n",
              "         ('sat', 'living'): 1,\n",
              "         ('living', 'room'): 1,\n",
              "         ('room', 'feeling'): 1,\n",
              "         ('feeling', 'sun'): 1,\n",
              "         ('sun', 'still'): 1,\n",
              "         ('still', 'feel'): 1,\n",
              "         ('feel', 'incredibly'): 1,\n",
              "         ('incredibly', 'listless'): 1,\n",
              "         ('listless', 'albu'): 1,\n",
              "         ('albu', 'feel'): 1,\n",
              "         ('feel', 'safe'): 1,\n",
              "         ('safe', 'oursel'): 1,\n",
              "         ('oursel', 'ask'): 1,\n",
              "         ('ask', 'feel'): 1,\n",
              "         ('feel', 'virtuous'): 1,\n",
              "         ('virtuous', 'name'): 1,\n",
              "         ('name', 'text'): 1,\n",
              "         ('text', 'length'): 1,\n",
              "         ('length', 'dtype'): 1,\n",
              "         ('dtype', 'object'): 1})"
            ]
          },
          "metadata": {},
          "execution_count": 19
        }
      ]
    },
    {
      "cell_type": "code",
      "source": [
        "def word_frequency(sentence):\n",
        "    sentence =\" \".join(sentence)\n",
        "    new_tokens = word_tokenize(sentence)\n",
        "    new_tokens = [t.lower() for t in new_tokens]\n",
        "    new_tokens =[t for t in new_tokens if t not in stopwords.words('english')]\n",
        "    new_tokens = [t for t in new_tokens if t.isalpha()]\n",
        "    lemmatizer = WordNetLemmatizer()\n",
        "    new_tokens =[lemmatizer.lemmatize(t) for t in new_tokens]\n",
        "    counted = Counter(new_tokens)\n",
        "    counted_2= Counter(ngrams(new_tokens,2))\n",
        "    counted_3= Counter(ngrams(new_tokens,3))\n",
        "    word_freq = pd.DataFrame(counted.items(),columns=['word','frequency']).sort_values(by='frequency',ascending=False)\n",
        "    word_pairs =pd.DataFrame(counted_2.items(),columns=['pairs','frequency']).sort_values(by='frequency',ascending=False)\n",
        "    trigrams =pd.DataFrame(counted_3.items(),columns=['trigrams','frequency']).sort_values(by='frequency',ascending=False)\n",
        "    return word_freq,word_pairs,trigrams\n",
        "    "
      ],
      "metadata": {
        "id": "rnX1Gh9ueE1_"
      },
      "execution_count": null,
      "outputs": []
    },
    {
      "cell_type": "code",
      "source": [
        "data2,data3,data4 = word_frequency(cleaned_df['                                                                           text'])"
      ],
      "metadata": {
        "id": "_9zDuOZZeM9F"
      },
      "execution_count": null,
      "outputs": []
    },
    {
      "cell_type": "code",
      "source": [
        "data4"
      ],
      "metadata": {
        "colab": {
          "base_uri": "https://localhost:8080/"
        },
        "id": "oKpHh5ExeQZx",
        "outputId": "0e1ae289-857e-4517-c710-64e25a1dd180"
      },
      "execution_count": null,
      "outputs": [
        {
          "output_type": "execute_result",
          "data": {
            "text/plain": [
              "                              trigrams  frequency\n",
              "184003           (take, anymore, take)       1562\n",
              "338949        (anymore, take, anymore)       1561\n",
              "8987                 (want, die, want)        447\n",
              "43337                 (die, want, die)        275\n",
              "5075                (make, feel, like)        250\n",
              "...                                ...        ...\n",
              "482460                 (go, pick, buy)          1\n",
              "482459              (scared, go, pick)          1\n",
              "482458           (monster, scared, go)          1\n",
              "482457          (bye, monster, scared)          1\n",
              "1363540  (learn, take, responsibility)          1\n",
              "\n",
              "[1363541 rows x 2 columns]"
            ],
            "text/html": [
              "\n",
              "  <div id=\"df-567358f0-db2a-44b1-8c41-a1a0f72834fa\">\n",
              "    <div class=\"colab-df-container\">\n",
              "      <div>\n",
              "<style scoped>\n",
              "    .dataframe tbody tr th:only-of-type {\n",
              "        vertical-align: middle;\n",
              "    }\n",
              "\n",
              "    .dataframe tbody tr th {\n",
              "        vertical-align: top;\n",
              "    }\n",
              "\n",
              "    .dataframe thead th {\n",
              "        text-align: right;\n",
              "    }\n",
              "</style>\n",
              "<table border=\"1\" class=\"dataframe\">\n",
              "  <thead>\n",
              "    <tr style=\"text-align: right;\">\n",
              "      <th></th>\n",
              "      <th>trigrams</th>\n",
              "      <th>frequency</th>\n",
              "    </tr>\n",
              "  </thead>\n",
              "  <tbody>\n",
              "    <tr>\n",
              "      <th>184003</th>\n",
              "      <td>(take, anymore, take)</td>\n",
              "      <td>1562</td>\n",
              "    </tr>\n",
              "    <tr>\n",
              "      <th>338949</th>\n",
              "      <td>(anymore, take, anymore)</td>\n",
              "      <td>1561</td>\n",
              "    </tr>\n",
              "    <tr>\n",
              "      <th>8987</th>\n",
              "      <td>(want, die, want)</td>\n",
              "      <td>447</td>\n",
              "    </tr>\n",
              "    <tr>\n",
              "      <th>43337</th>\n",
              "      <td>(die, want, die)</td>\n",
              "      <td>275</td>\n",
              "    </tr>\n",
              "    <tr>\n",
              "      <th>5075</th>\n",
              "      <td>(make, feel, like)</td>\n",
              "      <td>250</td>\n",
              "    </tr>\n",
              "    <tr>\n",
              "      <th>...</th>\n",
              "      <td>...</td>\n",
              "      <td>...</td>\n",
              "    </tr>\n",
              "    <tr>\n",
              "      <th>482460</th>\n",
              "      <td>(go, pick, buy)</td>\n",
              "      <td>1</td>\n",
              "    </tr>\n",
              "    <tr>\n",
              "      <th>482459</th>\n",
              "      <td>(scared, go, pick)</td>\n",
              "      <td>1</td>\n",
              "    </tr>\n",
              "    <tr>\n",
              "      <th>482458</th>\n",
              "      <td>(monster, scared, go)</td>\n",
              "      <td>1</td>\n",
              "    </tr>\n",
              "    <tr>\n",
              "      <th>482457</th>\n",
              "      <td>(bye, monster, scared)</td>\n",
              "      <td>1</td>\n",
              "    </tr>\n",
              "    <tr>\n",
              "      <th>1363540</th>\n",
              "      <td>(learn, take, responsibility)</td>\n",
              "      <td>1</td>\n",
              "    </tr>\n",
              "  </tbody>\n",
              "</table>\n",
              "<p>1363541 rows × 2 columns</p>\n",
              "</div>\n",
              "      <button class=\"colab-df-convert\" onclick=\"convertToInteractive('df-567358f0-db2a-44b1-8c41-a1a0f72834fa')\"\n",
              "              title=\"Convert this dataframe to an interactive table.\"\n",
              "              style=\"display:none;\">\n",
              "        \n",
              "  <svg xmlns=\"http://www.w3.org/2000/svg\" height=\"24px\"viewBox=\"0 0 24 24\"\n",
              "       width=\"24px\">\n",
              "    <path d=\"M0 0h24v24H0V0z\" fill=\"none\"/>\n",
              "    <path d=\"M18.56 5.44l.94 2.06.94-2.06 2.06-.94-2.06-.94-.94-2.06-.94 2.06-2.06.94zm-11 1L8.5 8.5l.94-2.06 2.06-.94-2.06-.94L8.5 2.5l-.94 2.06-2.06.94zm10 10l.94 2.06.94-2.06 2.06-.94-2.06-.94-.94-2.06-.94 2.06-2.06.94z\"/><path d=\"M17.41 7.96l-1.37-1.37c-.4-.4-.92-.59-1.43-.59-.52 0-1.04.2-1.43.59L10.3 9.45l-7.72 7.72c-.78.78-.78 2.05 0 2.83L4 21.41c.39.39.9.59 1.41.59.51 0 1.02-.2 1.41-.59l7.78-7.78 2.81-2.81c.8-.78.8-2.07 0-2.86zM5.41 20L4 18.59l7.72-7.72 1.47 1.35L5.41 20z\"/>\n",
              "  </svg>\n",
              "      </button>\n",
              "      \n",
              "  <style>\n",
              "    .colab-df-container {\n",
              "      display:flex;\n",
              "      flex-wrap:wrap;\n",
              "      gap: 12px;\n",
              "    }\n",
              "\n",
              "    .colab-df-convert {\n",
              "      background-color: #E8F0FE;\n",
              "      border: none;\n",
              "      border-radius: 50%;\n",
              "      cursor: pointer;\n",
              "      display: none;\n",
              "      fill: #1967D2;\n",
              "      height: 32px;\n",
              "      padding: 0 0 0 0;\n",
              "      width: 32px;\n",
              "    }\n",
              "\n",
              "    .colab-df-convert:hover {\n",
              "      background-color: #E2EBFA;\n",
              "      box-shadow: 0px 1px 2px rgba(60, 64, 67, 0.3), 0px 1px 3px 1px rgba(60, 64, 67, 0.15);\n",
              "      fill: #174EA6;\n",
              "    }\n",
              "\n",
              "    [theme=dark] .colab-df-convert {\n",
              "      background-color: #3B4455;\n",
              "      fill: #D2E3FC;\n",
              "    }\n",
              "\n",
              "    [theme=dark] .colab-df-convert:hover {\n",
              "      background-color: #434B5C;\n",
              "      box-shadow: 0px 1px 3px 1px rgba(0, 0, 0, 0.15);\n",
              "      filter: drop-shadow(0px 1px 2px rgba(0, 0, 0, 0.3));\n",
              "      fill: #FFFFFF;\n",
              "    }\n",
              "  </style>\n",
              "\n",
              "      <script>\n",
              "        const buttonEl =\n",
              "          document.querySelector('#df-567358f0-db2a-44b1-8c41-a1a0f72834fa button.colab-df-convert');\n",
              "        buttonEl.style.display =\n",
              "          google.colab.kernel.accessAllowed ? 'block' : 'none';\n",
              "\n",
              "        async function convertToInteractive(key) {\n",
              "          const element = document.querySelector('#df-567358f0-db2a-44b1-8c41-a1a0f72834fa');\n",
              "          const dataTable =\n",
              "            await google.colab.kernel.invokeFunction('convertToInteractive',\n",
              "                                                     [key], {});\n",
              "          if (!dataTable) return;\n",
              "\n",
              "          const docLinkHtml = 'Like what you see? Visit the ' +\n",
              "            '<a target=\"_blank\" href=https://colab.research.google.com/notebooks/data_table.ipynb>data table notebook</a>'\n",
              "            + ' to learn more about interactive tables.';\n",
              "          element.innerHTML = '';\n",
              "          dataTable['output_type'] = 'display_data';\n",
              "          await google.colab.output.renderOutput(dataTable, element);\n",
              "          const docLink = document.createElement('div');\n",
              "          docLink.innerHTML = docLinkHtml;\n",
              "          element.appendChild(docLink);\n",
              "        }\n",
              "      </script>\n",
              "    </div>\n",
              "  </div>\n",
              "  "
            ]
          },
          "metadata": {},
          "execution_count": 22
        }
      ]
    },
    {
      "cell_type": "code",
      "source": [
        "fig, axes = plt.subplots(3,1,figsize=(8,20))\n",
        "sns.barplot(ax=axes[0],x='frequency',y='word',data=data2.head(30))\n",
        "sns.barplot(ax=axes[1],x='frequency',y='pairs',data=data3.head(30))\n",
        "sns.barplot(ax=axes[2],x='frequency',y='trigrams',data=data4.head(30))"
      ],
      "metadata": {
        "colab": {
          "base_uri": "https://localhost:8080/"
        },
        "id": "p4dWT-4meuYX",
        "outputId": "f4079ec9-cbc5-456f-a17b-b5bd6328b290"
      },
      "execution_count": null,
      "outputs": [
        {
          "output_type": "execute_result",
          "data": {
            "text/plain": [
              "<matplotlib.axes._subplots.AxesSubplot at 0x7fa39dd8bad0>"
            ]
          },
          "metadata": {},
          "execution_count": 23
        },
        {
          "output_type": "display_data",
          "data": {
            "text/plain": [
              "<Figure size 576x1440 with 3 Axes>"
            ],
            "image/png": "[encoded data removed]"
          },
          "metadata": {
            "needs_background": "light"
          }
        }
      ]
    },
    {
      "cell_type": "code",
      "source": [
        "# Check dataset \n",
        "cleaned_df.head()"
      ],
      "metadata": {
        "colab": {
          "base_uri": "https://localhost:8080/"
        },
        "id": "WISZfg9IpAXV",
        "outputId": "0c2c7ec9-0d3d-473c-ad2c-af30a4e815dd"
      },
      "execution_count": null,
      "outputs": [
        {
          "output_type": "execute_result",
          "data": {
            "text/plain": [
              "                                                                             text  \\\n",
              "0  I recently went through a breakup and she said...                                \n",
              "1  I do not know how to navigate these feelings, ...                                \n",
              "2  So I have been with my bf for 5 months , and h...                                \n",
              "3  I am so exhausted of this. Just when I think I...                                \n",
              "4  i could feel the strongest connection and stil...                                \n",
              "\n",
              "        class                                       cleaned_text  \n",
              "0  depression  recently go breakup say want friend say try ta...  \n",
              "1  depression  not know navigate feeling not new feeling stre...  \n",
              "2  depression  month tell depressed week particular happen fe...  \n",
              "3     suicide  exhausted think finally rest think maybe thing...  \n",
              "4      normal                 feel strong connection divine self  "
            ],
            "text/html": [
              "\n",
              "  <div id=\"df-d3b940ae-afa0-45d8-927b-e714b8e59567\">\n",
              "    <div class=\"colab-df-container\">\n",
              "      <div>\n",
              "<style scoped>\n",
              "    .dataframe tbody tr th:only-of-type {\n",
              "        vertical-align: middle;\n",
              "    }\n",
              "\n",
              "    .dataframe tbody tr th {\n",
              "        vertical-align: top;\n",
              "    }\n",
              "\n",
              "    .dataframe thead th {\n",
              "        text-align: right;\n",
              "    }\n",
              "</style>\n",
              "<table border=\"1\" class=\"dataframe\">\n",
              "  <thead>\n",
              "    <tr style=\"text-align: right;\">\n",
              "      <th></th>\n",
              "      <th>text</th>\n",
              "      <th>class</th>\n",
              "      <th>cleaned_text</th>\n",
              "    </tr>\n",
              "  </thead>\n",
              "  <tbody>\n",
              "    <tr>\n",
              "      <th>0</th>\n",
              "      <td>I recently went through a breakup and she said...</td>\n",
              "      <td>depression</td>\n",
              "      <td>recently go breakup say want friend say try ta...</td>\n",
              "    </tr>\n",
              "    <tr>\n",
              "      <th>1</th>\n",
              "      <td>I do not know how to navigate these feelings, ...</td>\n",
              "      <td>depression</td>\n",
              "      <td>not know navigate feeling not new feeling stre...</td>\n",
              "    </tr>\n",
              "    <tr>\n",
              "      <th>2</th>\n",
              "      <td>So I have been with my bf for 5 months , and h...</td>\n",
              "      <td>depression</td>\n",
              "      <td>month tell depressed week particular happen fe...</td>\n",
              "    </tr>\n",
              "    <tr>\n",
              "      <th>3</th>\n",
              "      <td>I am so exhausted of this. Just when I think I...</td>\n",
              "      <td>suicide</td>\n",
              "      <td>exhausted think finally rest think maybe thing...</td>\n",
              "    </tr>\n",
              "    <tr>\n",
              "      <th>4</th>\n",
              "      <td>i could feel the strongest connection and stil...</td>\n",
              "      <td>normal</td>\n",
              "      <td>feel strong connection divine self</td>\n",
              "    </tr>\n",
              "  </tbody>\n",
              "</table>\n",
              "</div>\n",
              "      <button class=\"colab-df-convert\" onclick=\"convertToInteractive('df-d3b940ae-afa0-45d8-927b-e714b8e59567')\"\n",
              "              title=\"Convert this dataframe to an interactive table.\"\n",
              "              style=\"display:none;\">\n",
              "        \n",
              "  <svg xmlns=\"http://www.w3.org/2000/svg\" height=\"24px\"viewBox=\"0 0 24 24\"\n",
              "       width=\"24px\">\n",
              "    <path d=\"M0 0h24v24H0V0z\" fill=\"none\"/>\n",
              "    <path d=\"M18.56 5.44l.94 2.06.94-2.06 2.06-.94-2.06-.94-.94-2.06-.94 2.06-2.06.94zm-11 1L8.5 8.5l.94-2.06 2.06-.94-2.06-.94L8.5 2.5l-.94 2.06-2.06.94zm10 10l.94 2.06.94-2.06 2.06-.94-2.06-.94-.94-2.06-.94 2.06-2.06.94z\"/><path d=\"M17.41 7.96l-1.37-1.37c-.4-.4-.92-.59-1.43-.59-.52 0-1.04.2-1.43.59L10.3 9.45l-7.72 7.72c-.78.78-.78 2.05 0 2.83L4 21.41c.39.39.9.59 1.41.59.51 0 1.02-.2 1.41-.59l7.78-7.78 2.81-2.81c.8-.78.8-2.07 0-2.86zM5.41 20L4 18.59l7.72-7.72 1.47 1.35L5.41 20z\"/>\n",
              "  </svg>\n",
              "      </button>\n",
              "      \n",
              "  <style>\n",
              "    .colab-df-container {\n",
              "      display:flex;\n",
              "      flex-wrap:wrap;\n",
              "      gap: 12px;\n",
              "    }\n",
              "\n",
              "    .colab-df-convert {\n",
              "      background-color: #E8F0FE;\n",
              "      border: none;\n",
              "      border-radius: 50%;\n",
              "      cursor: pointer;\n",
              "      display: none;\n",
              "      fill: #1967D2;\n",
              "      height: 32px;\n",
              "      padding: 0 0 0 0;\n",
              "      width: 32px;\n",
              "    }\n",
              "\n",
              "    .colab-df-convert:hover {\n",
              "      background-color: #E2EBFA;\n",
              "      box-shadow: 0px 1px 2px rgba(60, 64, 67, 0.3), 0px 1px 3px 1px rgba(60, 64, 67, 0.15);\n",
              "      fill: #174EA6;\n",
              "    }\n",
              "\n",
              "    [theme=dark] .colab-df-convert {\n",
              "      background-color: #3B4455;\n",
              "      fill: #D2E3FC;\n",
              "    }\n",
              "\n",
              "    [theme=dark] .colab-df-convert:hover {\n",
              "      background-color: #434B5C;\n",
              "      box-shadow: 0px 1px 3px 1px rgba(0, 0, 0, 0.15);\n",
              "      filter: drop-shadow(0px 1px 2px rgba(0, 0, 0, 0.3));\n",
              "      fill: #FFFFFF;\n",
              "    }\n",
              "  </style>\n",
              "\n",
              "      <script>\n",
              "        const buttonEl =\n",
              "          document.querySelector('#df-d3b940ae-afa0-45d8-927b-e714b8e59567 button.colab-df-convert');\n",
              "        buttonEl.style.display =\n",
              "          google.colab.kernel.accessAllowed ? 'block' : 'none';\n",
              "\n",
              "        async function convertToInteractive(key) {\n",
              "          const element = document.querySelector('#df-d3b940ae-afa0-45d8-927b-e714b8e59567');\n",
              "          const dataTable =\n",
              "            await google.colab.kernel.invokeFunction('convertToInteractive',\n",
              "                                                     [key], {});\n",
              "          if (!dataTable) return;\n",
              "\n",
              "          const docLinkHtml = 'Like what you see? Visit the ' +\n",
              "            '<a target=\"_blank\" href=https://colab.research.google.com/notebooks/data_table.ipynb>data table notebook</a>'\n",
              "            + ' to learn more about interactive tables.';\n",
              "          element.innerHTML = '';\n",
              "          dataTable['output_type'] = 'display_data';\n",
              "          await google.colab.output.renderOutput(dataTable, element);\n",
              "          const docLink = document.createElement('div');\n",
              "          docLink.innerHTML = docLinkHtml;\n",
              "          element.appendChild(docLink);\n",
              "        }\n",
              "      </script>\n",
              "    </div>\n",
              "  </div>\n",
              "  "
            ]
          },
          "metadata": {},
          "execution_count": 24
        }
      ]
    },
    {
      "cell_type": "code",
      "source": [
        "# Export cleaned dataset \n",
        "cleaned_df.to_csv('/content/drive/MyDrive/Suicide/New Data/suicide_final_cleaned.csv', index=False)"
      ],
      "metadata": {
        "id": "4VRW0I-WpDVA"
      },
      "execution_count": null,
      "outputs": []
    },
    {
      "cell_type": "code",
      "source": [],
      "metadata": {
        "id": "rs6yfqxKpJ5C"
      },
      "execution_count": null,
      "outputs": []
    }
  ]
}